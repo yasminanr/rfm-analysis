{
 "cells": [
  {
   "cell_type": "markdown",
   "metadata": {},
   "source": [
    "## RFM Analysis on E-commerce Data"
   ]
  },
  {
   "cell_type": "markdown",
   "metadata": {},
   "source": [
    "RFM is method of customer behavioral segmentation based on 3 key features:\n",
    "- Recency: How recently a customer did a certain activity (in this case, made a purchase, measured by number of days since the last purchase).\n",
    "- Frequency: How often a customer made purchases (measured by the number of transaction).\n",
    "- Monetary Value: The amount of money spent on those purchases."
   ]
  },
  {
   "cell_type": "markdown",
   "metadata": {},
   "source": [
    "We will perform RFM analysis on a dataset from a UK-based and registered, non-store online retail company, containing all the transactions occurring between 01/12/2009 and 09/12/2011."
   ]
  },
  {
   "cell_type": "markdown",
   "metadata": {},
   "source": [
    "### Import Libraries"
   ]
  },
  {
   "cell_type": "code",
   "execution_count": 1,
   "metadata": {},
   "outputs": [],
   "source": [
    "import pandas as pd\n",
    "import numpy as np\n",
    "import matplotlib.pyplot as plt\n",
    "%matplotlib inline\n",
    "import seaborn as sns\n",
    "sns.set()\n",
    "import datetime as dt\n",
    "import warnings\n",
    "warnings.filterwarnings('ignore')\n",
    "import os"
   ]
  },
  {
   "cell_type": "markdown",
   "metadata": {},
   "source": [
    "### Details about the Dataset\n",
    "An e-commerce company wants to segment its customers and determine marketing strategies according to these segments. To this end, we will define the behavior of customers and create groups according to clusters in these behaviors. In other words, we will include those who exhibit common behaviors in the same groups and we will try to develop special sales and marketing techniques for these groups.\n",
    "\n",
    "- InvoiceNo: Invoice number. Nominal. A 6-digit integral number uniquely assigned to each transaction. If this code starts with the letter 'c', it indicates a cancellation.\n",
    "- StockCode: Product (item) code. Nominal. A 5-digit integral number uniquely assigned to each distinct product.\n",
    "- Description: Product (item) name. Nominal.\n",
    "- Quantity: The quantities of each product (item) per transaction. Numeric.\n",
    "- InvoiceDate: Invoice date and time. Numeric. The day and time when a transaction was generated.\n",
    "- UnitPrice: Unit price. Numeric. Product price per unit in sterling (Â£).\n",
    "- CustomerID: Customer number. Nominal. A 5-digit integral number uniquely assigned to each customer.\n",
    "- Country: Country name. Nominal. The name of the country where a customer resides."
   ]
  },
  {
   "cell_type": "markdown",
   "metadata": {},
   "source": [
    "### Load the Data"
   ]
  },
  {
   "cell_type": "code",
   "execution_count": 2,
   "metadata": {},
   "outputs": [],
   "source": [
    "os.chdir('/Users/neera/Documents/PROJECTS/RFM Analysis')\n",
    "df = pd.read_csv('online_retail_listing.csv', delimiter=';', encoding='latin-1')"
   ]
  },
  {
   "cell_type": "code",
   "execution_count": 3,
   "metadata": {},
   "outputs": [
    {
     "data": {
      "text/html": [
       "<div>\n",
       "<style scoped>\n",
       "    .dataframe tbody tr th:only-of-type {\n",
       "        vertical-align: middle;\n",
       "    }\n",
       "\n",
       "    .dataframe tbody tr th {\n",
       "        vertical-align: top;\n",
       "    }\n",
       "\n",
       "    .dataframe thead th {\n",
       "        text-align: right;\n",
       "    }\n",
       "</style>\n",
       "<table border=\"1\" class=\"dataframe\">\n",
       "  <thead>\n",
       "    <tr style=\"text-align: right;\">\n",
       "      <th></th>\n",
       "      <th>Invoice</th>\n",
       "      <th>StockCode</th>\n",
       "      <th>Description</th>\n",
       "      <th>Quantity</th>\n",
       "      <th>InvoiceDate</th>\n",
       "      <th>Price</th>\n",
       "      <th>Customer ID</th>\n",
       "      <th>Country</th>\n",
       "    </tr>\n",
       "  </thead>\n",
       "  <tbody>\n",
       "    <tr>\n",
       "      <td>0</td>\n",
       "      <td>489434</td>\n",
       "      <td>85048</td>\n",
       "      <td>15CM CHRISTMAS GLASS BALL 20 LIGHTS</td>\n",
       "      <td>12</td>\n",
       "      <td>1.12.2009 07:45</td>\n",
       "      <td>6,95</td>\n",
       "      <td>13085.0</td>\n",
       "      <td>United Kingdom</td>\n",
       "    </tr>\n",
       "    <tr>\n",
       "      <td>1</td>\n",
       "      <td>489434</td>\n",
       "      <td>79323P</td>\n",
       "      <td>PINK CHERRY LIGHTS</td>\n",
       "      <td>12</td>\n",
       "      <td>1.12.2009 07:45</td>\n",
       "      <td>6,75</td>\n",
       "      <td>13085.0</td>\n",
       "      <td>United Kingdom</td>\n",
       "    </tr>\n",
       "    <tr>\n",
       "      <td>2</td>\n",
       "      <td>489434</td>\n",
       "      <td>79323W</td>\n",
       "      <td>WHITE CHERRY LIGHTS</td>\n",
       "      <td>12</td>\n",
       "      <td>1.12.2009 07:45</td>\n",
       "      <td>6,75</td>\n",
       "      <td>13085.0</td>\n",
       "      <td>United Kingdom</td>\n",
       "    </tr>\n",
       "    <tr>\n",
       "      <td>3</td>\n",
       "      <td>489434</td>\n",
       "      <td>22041</td>\n",
       "      <td>RECORD FRAME 7\" SINGLE SIZE</td>\n",
       "      <td>48</td>\n",
       "      <td>1.12.2009 07:45</td>\n",
       "      <td>2,1</td>\n",
       "      <td>13085.0</td>\n",
       "      <td>United Kingdom</td>\n",
       "    </tr>\n",
       "    <tr>\n",
       "      <td>4</td>\n",
       "      <td>489434</td>\n",
       "      <td>21232</td>\n",
       "      <td>STRAWBERRY CERAMIC TRINKET BOX</td>\n",
       "      <td>24</td>\n",
       "      <td>1.12.2009 07:45</td>\n",
       "      <td>1,25</td>\n",
       "      <td>13085.0</td>\n",
       "      <td>United Kingdom</td>\n",
       "    </tr>\n",
       "  </tbody>\n",
       "</table>\n",
       "</div>"
      ],
      "text/plain": [
       "  Invoice StockCode                          Description  Quantity  \\\n",
       "0  489434     85048  15CM CHRISTMAS GLASS BALL 20 LIGHTS        12   \n",
       "1  489434    79323P                   PINK CHERRY LIGHTS        12   \n",
       "2  489434    79323W                  WHITE CHERRY LIGHTS        12   \n",
       "3  489434     22041         RECORD FRAME 7\" SINGLE SIZE         48   \n",
       "4  489434     21232       STRAWBERRY CERAMIC TRINKET BOX        24   \n",
       "\n",
       "       InvoiceDate Price  Customer ID         Country  \n",
       "0  1.12.2009 07:45  6,95      13085.0  United Kingdom  \n",
       "1  1.12.2009 07:45  6,75      13085.0  United Kingdom  \n",
       "2  1.12.2009 07:45  6,75      13085.0  United Kingdom  \n",
       "3  1.12.2009 07:45   2,1      13085.0  United Kingdom  \n",
       "4  1.12.2009 07:45  1,25      13085.0  United Kingdom  "
      ]
     },
     "execution_count": 3,
     "metadata": {},
     "output_type": "execute_result"
    }
   ],
   "source": [
    "df.head()"
   ]
  },
  {
   "cell_type": "code",
   "execution_count": 4,
   "metadata": {},
   "outputs": [
    {
     "name": "stdout",
     "output_type": "stream",
     "text": [
      "<class 'pandas.core.frame.DataFrame'>\n",
      "RangeIndex: 1048575 entries, 0 to 1048574\n",
      "Data columns (total 8 columns):\n",
      "Invoice        1048575 non-null object\n",
      "StockCode      1048575 non-null object\n",
      "Description    1044203 non-null object\n",
      "Quantity       1048575 non-null int64\n",
      "InvoiceDate    1048575 non-null object\n",
      "Price          1048575 non-null object\n",
      "Customer ID    811893 non-null float64\n",
      "Country        1048575 non-null object\n",
      "dtypes: float64(1), int64(1), object(6)\n",
      "memory usage: 64.0+ MB\n"
     ]
    }
   ],
   "source": [
    "df.info()"
   ]
  },
  {
   "cell_type": "markdown",
   "metadata": {},
   "source": [
    "We can see that there are some rows with null values in Customer ID and Description. We need to drop these rows."
   ]
  },
  {
   "cell_type": "code",
   "execution_count": 5,
   "metadata": {},
   "outputs": [],
   "source": [
    "df = df.dropna()"
   ]
  },
  {
   "cell_type": "markdown",
   "metadata": {},
   "source": [
    "Moreover, the Price column's datatype is object. We need to convert it into float and replace the comma.\n",
    "<br>\n",
    "We also need to add a new column for the total amount of money spent, which is Price times Quantity."
   ]
  },
  {
   "cell_type": "code",
   "execution_count": 6,
   "metadata": {},
   "outputs": [],
   "source": [
    "df['Price'] = df['Price'].apply(lambda x: float(str(x.replace(',','.'))))\n",
    "df['TotalPrice'] = df['Quantity'] * df['Price']"
   ]
  },
  {
   "cell_type": "markdown",
   "metadata": {},
   "source": [
    "Convert InvoiceDate into the date format."
   ]
  },
  {
   "cell_type": "code",
   "execution_count": 7,
   "metadata": {},
   "outputs": [],
   "source": [
    "df['InvoiceDate'] = pd.to_datetime(df['InvoiceDate'])"
   ]
  },
  {
   "cell_type": "markdown",
   "metadata": {},
   "source": [
    "Filter out the cancelled items indicated by 'C' in the Invoice column."
   ]
  },
  {
   "cell_type": "code",
   "execution_count": 8,
   "metadata": {},
   "outputs": [],
   "source": [
    "df = df[~df['Invoice'].str.contains('C', na=False)]"
   ]
  },
  {
   "cell_type": "code",
   "execution_count": 9,
   "metadata": {},
   "outputs": [
    {
     "data": {
      "text/html": [
       "<div>\n",
       "<style scoped>\n",
       "    .dataframe tbody tr th:only-of-type {\n",
       "        vertical-align: middle;\n",
       "    }\n",
       "\n",
       "    .dataframe tbody tr th {\n",
       "        vertical-align: top;\n",
       "    }\n",
       "\n",
       "    .dataframe thead th {\n",
       "        text-align: right;\n",
       "    }\n",
       "</style>\n",
       "<table border=\"1\" class=\"dataframe\">\n",
       "  <thead>\n",
       "    <tr style=\"text-align: right;\">\n",
       "      <th></th>\n",
       "      <th>Quantity</th>\n",
       "      <th>Price</th>\n",
       "      <th>Customer ID</th>\n",
       "      <th>TotalPrice</th>\n",
       "    </tr>\n",
       "  </thead>\n",
       "  <tbody>\n",
       "    <tr>\n",
       "      <td>count</td>\n",
       "      <td>793380.000000</td>\n",
       "      <td>793380.000000</td>\n",
       "      <td>793380.000000</td>\n",
       "      <td>793380.000000</td>\n",
       "    </tr>\n",
       "    <tr>\n",
       "      <td>mean</td>\n",
       "      <td>13.221014</td>\n",
       "      <td>3.214344</td>\n",
       "      <td>15331.894511</td>\n",
       "      <td>21.836865</td>\n",
       "    </tr>\n",
       "    <tr>\n",
       "      <td>std</td>\n",
       "      <td>113.376231</td>\n",
       "      <td>29.363135</td>\n",
       "      <td>1696.362302</td>\n",
       "      <td>122.834624</td>\n",
       "    </tr>\n",
       "    <tr>\n",
       "      <td>min</td>\n",
       "      <td>1.000000</td>\n",
       "      <td>0.000000</td>\n",
       "      <td>12346.000000</td>\n",
       "      <td>0.000000</td>\n",
       "    </tr>\n",
       "    <tr>\n",
       "      <td>25%</td>\n",
       "      <td>2.000000</td>\n",
       "      <td>1.250000</td>\n",
       "      <td>13979.000000</td>\n",
       "      <td>4.950000</td>\n",
       "    </tr>\n",
       "    <tr>\n",
       "      <td>50%</td>\n",
       "      <td>5.000000</td>\n",
       "      <td>1.950000</td>\n",
       "      <td>15271.000000</td>\n",
       "      <td>11.900000</td>\n",
       "    </tr>\n",
       "    <tr>\n",
       "      <td>75%</td>\n",
       "      <td>12.000000</td>\n",
       "      <td>3.750000</td>\n",
       "      <td>16801.000000</td>\n",
       "      <td>19.500000</td>\n",
       "    </tr>\n",
       "    <tr>\n",
       "      <td>max</td>\n",
       "      <td>74215.000000</td>\n",
       "      <td>10953.500000</td>\n",
       "      <td>18287.000000</td>\n",
       "      <td>77183.600000</td>\n",
       "    </tr>\n",
       "  </tbody>\n",
       "</table>\n",
       "</div>"
      ],
      "text/plain": [
       "            Quantity          Price    Customer ID     TotalPrice\n",
       "count  793380.000000  793380.000000  793380.000000  793380.000000\n",
       "mean       13.221014       3.214344   15331.894511      21.836865\n",
       "std       113.376231      29.363135    1696.362302     122.834624\n",
       "min         1.000000       0.000000   12346.000000       0.000000\n",
       "25%         2.000000       1.250000   13979.000000       4.950000\n",
       "50%         5.000000       1.950000   15271.000000      11.900000\n",
       "75%        12.000000       3.750000   16801.000000      19.500000\n",
       "max     74215.000000   10953.500000   18287.000000   77183.600000"
      ]
     },
     "execution_count": 9,
     "metadata": {},
     "output_type": "execute_result"
    }
   ],
   "source": [
    "df.describe()"
   ]
  },
  {
   "cell_type": "markdown",
   "metadata": {},
   "source": [
    "To calculate recency, we will be taking one day after the last invoice date of our data set as the 'present' date. The date difference will give us how recent the last transaction was made."
   ]
  },
  {
   "cell_type": "code",
   "execution_count": 10,
   "metadata": {},
   "outputs": [
    {
     "data": {
      "text/plain": [
       "Timestamp('2011-12-10 17:19:00')"
      ]
     },
     "execution_count": 10,
     "metadata": {},
     "output_type": "execute_result"
    }
   ],
   "source": [
    "df['InvoiceDate'].max()"
   ]
  },
  {
   "cell_type": "code",
   "execution_count": 11,
   "metadata": {},
   "outputs": [],
   "source": [
    "present_date =  dt.datetime(2011,12,11)"
   ]
  },
  {
   "cell_type": "markdown",
   "metadata": {},
   "source": [
    "Then we group our dataframe (specifically the InvoiceDate, InvoiceNo, and TotalPrice) by customer ID and assign it into a new dataframe."
   ]
  },
  {
   "cell_type": "code",
   "execution_count": 12,
   "metadata": {},
   "outputs": [],
   "source": [
    "rfm = df.groupby('Customer ID').agg({'InvoiceDate' : lambda day : (present_date - day.max()).days,\n",
    "                               'Invoice': lambda num: num.nunique(),\n",
    "                              'TotalPrice': lambda price : price.sum()\n",
    "})\n",
    "cols = ['Recency','Frequency','Monetary']\n",
    "rfm.columns = cols"
   ]
  },
  {
   "cell_type": "code",
   "execution_count": 13,
   "metadata": {},
   "outputs": [
    {
     "name": "stdout",
     "output_type": "stream",
     "text": [
      "<class 'pandas.core.frame.DataFrame'>\n",
      "Float64Index: 5863 entries, 12346.0 to 18287.0\n",
      "Data columns (total 3 columns):\n",
      "Recency      5863 non-null int64\n",
      "Frequency    5863 non-null int64\n",
      "Monetary     5863 non-null float64\n",
      "dtypes: float64(1), int64(2)\n",
      "memory usage: 183.2 KB\n"
     ]
    }
   ],
   "source": [
    "rfm.info()"
   ]
  },
  {
   "cell_type": "markdown",
   "metadata": {},
   "source": [
    "We have 5863 customer records with the recency of their purchase, the frequency by their quantity, and the monetary value of the purchases. Then we will calculate the RFM Score by dividing each column into 5 bins."
   ]
  },
  {
   "cell_type": "code",
   "execution_count": 14,
   "metadata": {},
   "outputs": [],
   "source": [
    "rfm['R'] = pd.cut(rfm['Recency'], \n",
    "                                       bins=[-1, \n",
    "                                             np.percentile(rfm['Recency'], 20), \n",
    "                                             np.percentile(rfm['Recency'], 40), \n",
    "                                             np.percentile(rfm['Recency'], 60),\n",
    "                                             np.percentile(rfm['Recency'], 80),\n",
    "                                             np.percentile(rfm['Recency'], 100)], \n",
    "                                       labels=[5, 4, 3, 2, 1]).astype('int')"
   ]
  },
  {
   "cell_type": "code",
   "execution_count": 15,
   "metadata": {},
   "outputs": [],
   "source": [
    "rfm['F'] = pd.cut(rfm['Frequency'], \n",
    "                                       bins=[-1, \n",
    "                                             np.percentile(rfm['Frequency'], 20), \n",
    "                                             np.percentile(rfm['Frequency'], 40), \n",
    "                                             np.percentile(rfm['Frequency'], 60),\n",
    "                                             np.percentile(rfm['Frequency'], 80),\n",
    "                                             np.percentile(rfm['Frequency'], 100)], \n",
    "                                       labels=[1, 2, 3, 4, 5]).astype('int')"
   ]
  },
  {
   "cell_type": "code",
   "execution_count": 16,
   "metadata": {},
   "outputs": [],
   "source": [
    "rfm['M'] = pd.cut(rfm['Monetary'], \n",
    "                                       bins=[-1, \n",
    "                                             np.percentile(rfm['Monetary'], 20), \n",
    "                                             np.percentile(rfm['Monetary'], 40), \n",
    "                                             np.percentile(rfm['Monetary'], 60),\n",
    "                                             np.percentile(rfm['Monetary'], 80),\n",
    "                                             np.percentile(rfm['Monetary'], 100)], \n",
    "                                       labels=[1, 2, 3, 4, 5]).astype('int')"
   ]
  },
  {
   "cell_type": "markdown",
   "metadata": {},
   "source": [
    "The reason I'm using cut and not qcut is:\n",
    "<br>\n",
    "Qcut (quantile-cut) differs from cut in the sense that, in qcut, the number of elements in each bin will be roughly the same, but this will come at the cost of differently sized interval widths. On the other hand, in cut, the bin edges were equal sized with uneven number of elements in each bin or group.\n",
    "<br>\n",
    "So, when we ask for quintiles with qcut, the bins will be chosen so that we have the same number of records in each bin. If we have 30 records, when we specify bins = 5, they should have 6 in each bin.\n",
    "<br>\n",
    "Cut will choose the bins to be evenly spaced according to the values themselves and not the frequency of those values. So I use cut and dividing the bins by the percentiles.\n",
    "<br>\n",
    "Alternatively, using qcut with this approach will yield similar result:\n",
    "<br>\n",
    "rfm['R'] = pd.cut(rfm['Recency'].rank(pct=True), bins=5, labels=[5, 4, 3, 2, 1])\n",
    "<br>\n",
    "rfm['F'] = pd.cut(rfm['Frequency'].rank(pct=True), bins=5, labels=[1, 2, 3, 4, 5])\n",
    "<br>\n",
    "rfm['M'] = pd.cut(rfm['Monetary'].rank(pct=True), bins=5, labels=[1, 2, 3, 4, 5])"
   ]
  },
  {
   "cell_type": "markdown",
   "metadata": {},
   "source": [
    "qcut is also not friendly with duplicated data and will throw an error when it sees a duplicate at splitting point. \n",
    "<br>\n",
    "Example:"
   ]
  },
  {
   "cell_type": "code",
   "execution_count": 17,
   "metadata": {},
   "outputs": [],
   "source": [
    "# rfm['R'] = pd.qcut(rfm['Recency'], q=5, labels=[5,4,3,2,1])\n",
    "# rfm['F'] = pd.qcut(rfm['Frequency'], q=5, labels=[1,2,3,4,5])\n",
    "# rfm['M'] = pd.qcut(rfm['Monetary'], q=5, labels=[1,2,3,4,5])\n",
    "# rfm['RFM Score'] = rfm['R'].astype(str) + rfm['F'].astype(str) + rfm['M'].astype(str)\n",
    "\n",
    "# The error message: Bin edges must be unique: array([  1.,   1.,   2.,   4.,   8., 391.])."
   ]
  },
  {
   "cell_type": "code",
   "execution_count": 18,
   "metadata": {},
   "outputs": [],
   "source": [
    "rfm['RFM Score'] = rfm['R'].astype(str) + rfm['F'].astype(str) + rfm['M'].astype(str)"
   ]
  },
  {
   "cell_type": "code",
   "execution_count": 19,
   "metadata": {},
   "outputs": [
    {
     "data": {
      "text/html": [
       "<div>\n",
       "<style scoped>\n",
       "    .dataframe tbody tr th:only-of-type {\n",
       "        vertical-align: middle;\n",
       "    }\n",
       "\n",
       "    .dataframe tbody tr th {\n",
       "        vertical-align: top;\n",
       "    }\n",
       "\n",
       "    .dataframe thead th {\n",
       "        text-align: right;\n",
       "    }\n",
       "</style>\n",
       "<table border=\"1\" class=\"dataframe\">\n",
       "  <thead>\n",
       "    <tr style=\"text-align: right;\">\n",
       "      <th></th>\n",
       "      <th>Recency</th>\n",
       "      <th>Frequency</th>\n",
       "      <th>Monetary</th>\n",
       "      <th>R</th>\n",
       "      <th>F</th>\n",
       "      <th>M</th>\n",
       "      <th>RFM Score</th>\n",
       "    </tr>\n",
       "    <tr>\n",
       "      <th>Customer ID</th>\n",
       "      <th></th>\n",
       "      <th></th>\n",
       "      <th></th>\n",
       "      <th></th>\n",
       "      <th></th>\n",
       "      <th></th>\n",
       "      <th></th>\n",
       "    </tr>\n",
       "  </thead>\n",
       "  <tbody>\n",
       "    <tr>\n",
       "      <td>12346.0</td>\n",
       "      <td>326</td>\n",
       "      <td>12</td>\n",
       "      <td>77556.46</td>\n",
       "      <td>2</td>\n",
       "      <td>5</td>\n",
       "      <td>5</td>\n",
       "      <td>255</td>\n",
       "    </tr>\n",
       "    <tr>\n",
       "      <td>12347.0</td>\n",
       "      <td>40</td>\n",
       "      <td>7</td>\n",
       "      <td>5408.50</td>\n",
       "      <td>4</td>\n",
       "      <td>4</td>\n",
       "      <td>5</td>\n",
       "      <td>445</td>\n",
       "    </tr>\n",
       "    <tr>\n",
       "      <td>12348.0</td>\n",
       "      <td>76</td>\n",
       "      <td>5</td>\n",
       "      <td>2019.40</td>\n",
       "      <td>3</td>\n",
       "      <td>4</td>\n",
       "      <td>4</td>\n",
       "      <td>344</td>\n",
       "    </tr>\n",
       "    <tr>\n",
       "      <td>12349.0</td>\n",
       "      <td>19</td>\n",
       "      <td>4</td>\n",
       "      <td>4428.69</td>\n",
       "      <td>5</td>\n",
       "      <td>3</td>\n",
       "      <td>5</td>\n",
       "      <td>535</td>\n",
       "    </tr>\n",
       "    <tr>\n",
       "      <td>12350.0</td>\n",
       "      <td>311</td>\n",
       "      <td>1</td>\n",
       "      <td>334.40</td>\n",
       "      <td>2</td>\n",
       "      <td>1</td>\n",
       "      <td>2</td>\n",
       "      <td>212</td>\n",
       "    </tr>\n",
       "  </tbody>\n",
       "</table>\n",
       "</div>"
      ],
      "text/plain": [
       "             Recency  Frequency  Monetary  R  F  M RFM Score\n",
       "Customer ID                                                 \n",
       "12346.0          326         12  77556.46  2  5  5       255\n",
       "12347.0           40          7   5408.50  4  4  5       445\n",
       "12348.0           76          5   2019.40  3  4  4       344\n",
       "12349.0           19          4   4428.69  5  3  5       535\n",
       "12350.0          311          1    334.40  2  1  2       212"
      ]
     },
     "execution_count": 19,
     "metadata": {},
     "output_type": "execute_result"
    }
   ],
   "source": [
    "rfm.head()"
   ]
  },
  {
   "cell_type": "markdown",
   "metadata": {},
   "source": [
    "We will segment our customer using regex method."
   ]
  },
  {
   "cell_type": "code",
   "execution_count": 20,
   "metadata": {},
   "outputs": [
    {
     "data": {
      "text/html": [
       "<div>\n",
       "<style scoped>\n",
       "    .dataframe tbody tr th:only-of-type {\n",
       "        vertical-align: middle;\n",
       "    }\n",
       "\n",
       "    .dataframe tbody tr th {\n",
       "        vertical-align: top;\n",
       "    }\n",
       "\n",
       "    .dataframe thead th {\n",
       "        text-align: right;\n",
       "    }\n",
       "</style>\n",
       "<table border=\"1\" class=\"dataframe\">\n",
       "  <thead>\n",
       "    <tr style=\"text-align: right;\">\n",
       "      <th></th>\n",
       "      <th>Recency</th>\n",
       "      <th>Frequency</th>\n",
       "      <th>Monetary</th>\n",
       "      <th>R</th>\n",
       "      <th>F</th>\n",
       "      <th>M</th>\n",
       "      <th>RFM Score</th>\n",
       "      <th>Segment</th>\n",
       "    </tr>\n",
       "    <tr>\n",
       "      <th>Customer ID</th>\n",
       "      <th></th>\n",
       "      <th></th>\n",
       "      <th></th>\n",
       "      <th></th>\n",
       "      <th></th>\n",
       "      <th></th>\n",
       "      <th></th>\n",
       "      <th></th>\n",
       "    </tr>\n",
       "  </thead>\n",
       "  <tbody>\n",
       "    <tr>\n",
       "      <td>12346.0</td>\n",
       "      <td>326</td>\n",
       "      <td>12</td>\n",
       "      <td>77556.46</td>\n",
       "      <td>2</td>\n",
       "      <td>5</td>\n",
       "      <td>5</td>\n",
       "      <td>255</td>\n",
       "      <td>high_value_churned</td>\n",
       "    </tr>\n",
       "    <tr>\n",
       "      <td>12347.0</td>\n",
       "      <td>40</td>\n",
       "      <td>7</td>\n",
       "      <td>5408.50</td>\n",
       "      <td>4</td>\n",
       "      <td>4</td>\n",
       "      <td>5</td>\n",
       "      <td>445</td>\n",
       "      <td>loyal_customers</td>\n",
       "    </tr>\n",
       "    <tr>\n",
       "      <td>12348.0</td>\n",
       "      <td>76</td>\n",
       "      <td>5</td>\n",
       "      <td>2019.40</td>\n",
       "      <td>3</td>\n",
       "      <td>4</td>\n",
       "      <td>4</td>\n",
       "      <td>344</td>\n",
       "      <td>need_attention</td>\n",
       "    </tr>\n",
       "    <tr>\n",
       "      <td>12349.0</td>\n",
       "      <td>19</td>\n",
       "      <td>4</td>\n",
       "      <td>4428.69</td>\n",
       "      <td>5</td>\n",
       "      <td>3</td>\n",
       "      <td>5</td>\n",
       "      <td>535</td>\n",
       "      <td>potential_loyalists</td>\n",
       "    </tr>\n",
       "    <tr>\n",
       "      <td>12350.0</td>\n",
       "      <td>311</td>\n",
       "      <td>1</td>\n",
       "      <td>334.40</td>\n",
       "      <td>2</td>\n",
       "      <td>1</td>\n",
       "      <td>2</td>\n",
       "      <td>212</td>\n",
       "      <td>hibernating</td>\n",
       "    </tr>\n",
       "  </tbody>\n",
       "</table>\n",
       "</div>"
      ],
      "text/plain": [
       "             Recency  Frequency  Monetary  R  F  M RFM Score  \\\n",
       "Customer ID                                                    \n",
       "12346.0          326         12  77556.46  2  5  5       255   \n",
       "12347.0           40          7   5408.50  4  4  5       445   \n",
       "12348.0           76          5   2019.40  3  4  4       344   \n",
       "12349.0           19          4   4428.69  5  3  5       535   \n",
       "12350.0          311          1    334.40  2  1  2       212   \n",
       "\n",
       "                         Segment  \n",
       "Customer ID                       \n",
       "12346.0       high_value_churned  \n",
       "12347.0          loyal_customers  \n",
       "12348.0           need_attention  \n",
       "12349.0      potential_loyalists  \n",
       "12350.0              hibernating  "
      ]
     },
     "execution_count": 20,
     "metadata": {},
     "output_type": "execute_result"
    }
   ],
   "source": [
    "seg_map = {r'[1-2][1-2]': 'hibernating',\n",
    "           r'[1-2]5': 'high_value_churned',\n",
    "           r'[1-3][1-4]': 'need_attention',\n",
    "           r'[3-4][4-5]': 'loyal_customers',\n",
    "           r'[4-5]1': 'promising_new_customers',\n",
    "           r'[4-5][2-3]': 'potential_loyalists',\n",
    "           r'5[4-5]': 'most_valuable'}\n",
    "\n",
    "rfm['Segment'] = rfm['R'].astype(str) + rfm['F'].astype(str)\n",
    "rfm['Segment'] = rfm['Segment'].replace(seg_map, regex=True)\n",
    "rfm.head()"
   ]
  },
  {
   "cell_type": "code",
   "execution_count": 21,
   "metadata": {},
   "outputs": [
    {
     "data": {
      "image/png": "[encoded data removed]",
      "text/plain": [
       "<Figure size 1296x360 with 1 Axes>"
      ]
     },
     "metadata": {
      "needs_background": "light"
     },
     "output_type": "display_data"
    }
   ],
   "source": [
    "plt.figure(figsize=(18, 5))\n",
    "total = float(len(rfm))\n",
    "ax = sns.countplot(x='Segment', data=rfm, order=rfm['Segment'].value_counts().index, palette='rocket')\n",
    "plt.title('RFM Segments', fontsize=28)\n",
    "for p in ax.patches:\n",
    "    percentage = '{:.1f}%'.format(100 * p.get_height()/total)\n",
    "    x = p.get_x() + p.get_width()\n",
    "    y = p.get_height()\n",
    "    ax.annotate(percentage, (x, y), ha='center')\n",
    "plt.show()"
   ]
  },
  {
   "cell_type": "markdown",
   "metadata": {},
   "source": [
    "Most of the customers are included in the 'hibernating' (28.1%) and 'need attention' (27.4%) segment. Next we have our most valuable customers (13.9%), which are customers with the highest recency and frequency score, then the loyals, the potential loyalist, and the promising new customers. Finally, at just a little over 1%, we have the high-value customers who haven’t purchased in a while."
   ]
  },
  {
   "cell_type": "code",
   "execution_count": 22,
   "metadata": {},
   "outputs": [
    {
     "data": {
      "text/html": [
       "<div>\n",
       "<style scoped>\n",
       "    .dataframe tbody tr th:only-of-type {\n",
       "        vertical-align: middle;\n",
       "    }\n",
       "\n",
       "    .dataframe tbody tr th {\n",
       "        vertical-align: top;\n",
       "    }\n",
       "\n",
       "    .dataframe thead tr th {\n",
       "        text-align: left;\n",
       "    }\n",
       "\n",
       "    .dataframe thead tr:last-of-type th {\n",
       "        text-align: right;\n",
       "    }\n",
       "</style>\n",
       "<table border=\"1\" class=\"dataframe\">\n",
       "  <thead>\n",
       "    <tr>\n",
       "      <th></th>\n",
       "      <th colspan=\"5\" halign=\"left\">Recency</th>\n",
       "      <th colspan=\"5\" halign=\"left\">Frequency</th>\n",
       "      <th colspan=\"5\" halign=\"left\">Monetary</th>\n",
       "    </tr>\n",
       "    <tr>\n",
       "      <th></th>\n",
       "      <th>mean</th>\n",
       "      <th>median</th>\n",
       "      <th>count</th>\n",
       "      <th>min</th>\n",
       "      <th>max</th>\n",
       "      <th>mean</th>\n",
       "      <th>median</th>\n",
       "      <th>count</th>\n",
       "      <th>min</th>\n",
       "      <th>max</th>\n",
       "      <th>mean</th>\n",
       "      <th>median</th>\n",
       "      <th>count</th>\n",
       "      <th>min</th>\n",
       "      <th>max</th>\n",
       "    </tr>\n",
       "    <tr>\n",
       "      <th>Segment</th>\n",
       "      <th></th>\n",
       "      <th></th>\n",
       "      <th></th>\n",
       "      <th></th>\n",
       "      <th></th>\n",
       "      <th></th>\n",
       "      <th></th>\n",
       "      <th></th>\n",
       "      <th></th>\n",
       "      <th></th>\n",
       "      <th></th>\n",
       "      <th></th>\n",
       "      <th></th>\n",
       "      <th></th>\n",
       "      <th></th>\n",
       "    </tr>\n",
       "  </thead>\n",
       "  <tbody>\n",
       "    <tr>\n",
       "      <td>hibernating</td>\n",
       "      <td>470.643420</td>\n",
       "      <td>444.0</td>\n",
       "      <td>1649</td>\n",
       "      <td>205</td>\n",
       "      <td>1062</td>\n",
       "      <td>1.299576</td>\n",
       "      <td>1</td>\n",
       "      <td>1649</td>\n",
       "      <td>1</td>\n",
       "      <td>2</td>\n",
       "      <td>442.381275</td>\n",
       "      <td>299.61</td>\n",
       "      <td>1649</td>\n",
       "      <td>0.00</td>\n",
       "      <td>13916.34</td>\n",
       "    </tr>\n",
       "    <tr>\n",
       "      <td>need_attention</td>\n",
       "      <td>223.055314</td>\n",
       "      <td>177.0</td>\n",
       "      <td>1609</td>\n",
       "      <td>73</td>\n",
       "      <td>725</td>\n",
       "      <td>3.653822</td>\n",
       "      <td>3</td>\n",
       "      <td>1609</td>\n",
       "      <td>1</td>\n",
       "      <td>8</td>\n",
       "      <td>1295.185472</td>\n",
       "      <td>935.10</td>\n",
       "      <td>1609</td>\n",
       "      <td>6.20</td>\n",
       "      <td>34095.26</td>\n",
       "    </tr>\n",
       "    <tr>\n",
       "      <td>most_valuable</td>\n",
       "      <td>11.346814</td>\n",
       "      <td>11.0</td>\n",
       "      <td>816</td>\n",
       "      <td>0</td>\n",
       "      <td>23</td>\n",
       "      <td>19.012255</td>\n",
       "      <td>11</td>\n",
       "      <td>816</td>\n",
       "      <td>5</td>\n",
       "      <td>391</td>\n",
       "      <td>10541.760238</td>\n",
       "      <td>3942.93</td>\n",
       "      <td>816</td>\n",
       "      <td>389.18</td>\n",
       "      <td>597336.11</td>\n",
       "    </tr>\n",
       "    <tr>\n",
       "      <td>loyal_customers</td>\n",
       "      <td>61.359435</td>\n",
       "      <td>51.0</td>\n",
       "      <td>779</td>\n",
       "      <td>24</td>\n",
       "      <td>199</td>\n",
       "      <td>12.360719</td>\n",
       "      <td>10</td>\n",
       "      <td>779</td>\n",
       "      <td>5</td>\n",
       "      <td>140</td>\n",
       "      <td>5818.670945</td>\n",
       "      <td>3469.30</td>\n",
       "      <td>779</td>\n",
       "      <td>127.90</td>\n",
       "      <td>193351.65</td>\n",
       "    </tr>\n",
       "    <tr>\n",
       "      <td>potential_loyalists</td>\n",
       "      <td>31.477762</td>\n",
       "      <td>26.0</td>\n",
       "      <td>697</td>\n",
       "      <td>0</td>\n",
       "      <td>72</td>\n",
       "      <td>2.942611</td>\n",
       "      <td>3</td>\n",
       "      <td>697</td>\n",
       "      <td>2</td>\n",
       "      <td>4</td>\n",
       "      <td>1126.782812</td>\n",
       "      <td>795.68</td>\n",
       "      <td>697</td>\n",
       "      <td>30.95</td>\n",
       "      <td>44534.30</td>\n",
       "    </tr>\n",
       "    <tr>\n",
       "      <td>promising_new_customers</td>\n",
       "      <td>37.123506</td>\n",
       "      <td>36.0</td>\n",
       "      <td>251</td>\n",
       "      <td>0</td>\n",
       "      <td>72</td>\n",
       "      <td>1.000000</td>\n",
       "      <td>1</td>\n",
       "      <td>251</td>\n",
       "      <td>1</td>\n",
       "      <td>1</td>\n",
       "      <td>336.198287</td>\n",
       "      <td>252.10</td>\n",
       "      <td>251</td>\n",
       "      <td>0.00</td>\n",
       "      <td>1635.66</td>\n",
       "    </tr>\n",
       "    <tr>\n",
       "      <td>high_value_churned</td>\n",
       "      <td>325.080645</td>\n",
       "      <td>326.5</td>\n",
       "      <td>62</td>\n",
       "      <td>205</td>\n",
       "      <td>545</td>\n",
       "      <td>16.064516</td>\n",
       "      <td>11</td>\n",
       "      <td>62</td>\n",
       "      <td>9</td>\n",
       "      <td>155</td>\n",
       "      <td>8176.089210</td>\n",
       "      <td>4003.03</td>\n",
       "      <td>62</td>\n",
       "      <td>628.32</td>\n",
       "      <td>77556.46</td>\n",
       "    </tr>\n",
       "  </tbody>\n",
       "</table>\n",
       "</div>"
      ],
      "text/plain": [
       "                            Recency                          Frequency         \\\n",
       "                               mean median count  min   max       mean median   \n",
       "Segment                                                                         \n",
       "hibernating              470.643420  444.0  1649  205  1062   1.299576      1   \n",
       "need_attention           223.055314  177.0  1609   73   725   3.653822      3   \n",
       "most_valuable             11.346814   11.0   816    0    23  19.012255     11   \n",
       "loyal_customers           61.359435   51.0   779   24   199  12.360719     10   \n",
       "potential_loyalists       31.477762   26.0   697    0    72   2.942611      3   \n",
       "promising_new_customers   37.123506   36.0   251    0    72   1.000000      1   \n",
       "high_value_churned       325.080645  326.5    62  205   545  16.064516     11   \n",
       "\n",
       "                                            Monetary                         \\\n",
       "                        count min  max          mean   median count     min   \n",
       "Segment                                                                       \n",
       "hibernating              1649   1    2    442.381275   299.61  1649    0.00   \n",
       "need_attention           1609   1    8   1295.185472   935.10  1609    6.20   \n",
       "most_valuable             816   5  391  10541.760238  3942.93   816  389.18   \n",
       "loyal_customers           779   5  140   5818.670945  3469.30   779  127.90   \n",
       "potential_loyalists       697   2    4   1126.782812   795.68   697   30.95   \n",
       "promising_new_customers   251   1    1    336.198287   252.10   251    0.00   \n",
       "high_value_churned         62   9  155   8176.089210  4003.03    62  628.32   \n",
       "\n",
       "                                    \n",
       "                               max  \n",
       "Segment                             \n",
       "hibernating               13916.34  \n",
       "need_attention            34095.26  \n",
       "most_valuable            597336.11  \n",
       "loyal_customers          193351.65  \n",
       "potential_loyalists       44534.30  \n",
       "promising_new_customers    1635.66  \n",
       "high_value_churned        77556.46  "
      ]
     },
     "execution_count": 22,
     "metadata": {},
     "output_type": "execute_result"
    }
   ],
   "source": [
    "summary = (\n",
    "    rfm[['Segment', 'Recency', 'Frequency', 'Monetary']]\n",
    "    .groupby('Segment')\n",
    "    .agg(['mean', 'median', 'count', 'min', 'max'])\n",
    ")\n",
    "\n",
    "summary.sort_values(by=('Recency', 'count'), ascending=False)"
   ]
  },
  {
   "cell_type": "markdown",
   "metadata": {},
   "source": [
    "Then we have barplots for the median of Recency, Frequency, and Monetary Value for each segment. I put the segments in the same order as our countplot above for easier comparison."
   ]
  },
  {
   "cell_type": "code",
   "execution_count": 23,
   "metadata": {},
   "outputs": [
    {
     "data": {
      "image/png": "[encoded data removed]",
      "text/plain": [
       "<Figure size 1296x360 with 1 Axes>"
      ]
     },
     "metadata": {
      "needs_background": "light"
     },
     "output_type": "display_data"
    }
   ],
   "source": [
    "fig = plt.subplots(figsize=(18, 5))\n",
    "sns.barplot(\n",
    "    x = rfm['Segment'], \n",
    "    y = rfm['Recency'], \n",
    "    palette='Set2', \n",
    "    estimator=np.median, \n",
    "    order=rfm['Segment'].value_counts().index)\n",
    "plt.title('Median Recency by Segment')\n",
    "plt.show()"
   ]
  },
  {
   "cell_type": "markdown",
   "metadata": {},
   "source": [
    "Here, the higher the median recency, the longer it has been since the customers' last purchase. \n",
    "<br>\n",
    "The highest median belongs to the hibernating and high value churned segment. While the lowest (most recent) belongs to the most valuable customers, the loyals and potential loyalist, and the promising new customers. "
   ]
  },
  {
   "cell_type": "code",
   "execution_count": 24,
   "metadata": {},
   "outputs": [
    {
     "data": {
      "image/png": "[encoded data removed]",
      "text/plain": [
       "<Figure size 1296x360 with 1 Axes>"
      ]
     },
     "metadata": {
      "needs_background": "light"
     },
     "output_type": "display_data"
    }
   ],
   "source": [
    "fig = plt.subplots(figsize=(18, 5))\n",
    "sns.barplot(\n",
    "    x = rfm['Segment'], \n",
    "    y = rfm['Frequency'], \n",
    "    palette='Set2', \n",
    "    estimator=np.median, \n",
    "    order=rfm['Segment'].value_counts().index)\n",
    "plt.title('Median Frequency by Segment')\n",
    "plt.show()"
   ]
  },
  {
   "cell_type": "markdown",
   "metadata": {},
   "source": [
    "The lowest frequency belongs to the hibernating and new customers, which is not surprising. While the highest belongs to our most valuables, the loyal customers, and the high value customers who haven't made a purchase in a while. It's probably worth trying to win them back again, since they already made frequent purchases in the past."
   ]
  },
  {
   "cell_type": "code",
   "execution_count": 25,
   "metadata": {},
   "outputs": [
    {
     "data": {
      "image/png": "[encoded data removed]",
      "text/plain": [
       "<Figure size 1296x360 with 1 Axes>"
      ]
     },
     "metadata": {
      "needs_background": "light"
     },
     "output_type": "display_data"
    }
   ],
   "source": [
    "fig = plt.subplots(figsize=(18, 5))\n",
    "sns.barplot(\n",
    "    x = rfm['Segment'], \n",
    "    y = rfm['Monetary'], \n",
    "    palette='Set2', \n",
    "    estimator=np.median, \n",
    "    order=rfm['Segment'].value_counts().index)\n",
    "plt.title('Median Monetary Value by Segment')\n",
    "plt.show()"
   ]
  },
  {
   "cell_type": "markdown",
   "metadata": {},
   "source": [
    "Customers with the highest monetary value are within the segments: most valuable, loyal customers, and high value churned. Again, one of the things that we probably should do is to try to get the churned customers back."
   ]
  },
  {
   "cell_type": "markdown",
   "metadata": {},
   "source": [
    "Examples on how to approach each segment:\n",
    "\n",
    "- Most Valuable: These are the most valuable customers, with highest scores across the board. They tend to have higher average order value, and more likely to become loyal fans. More likely to generate referrals or word of mouth, making them more valuable. We can come up with some reward system for top, loyal customers.\n",
    "- Loyal Customers: Second best to the MVPs. Retain their loyalty with rewards and personalized recommendations. We can also give points every time a customer leave a review.\n",
    "- Potential Loyalists: These are the customers with high recency and low-moderate frequency. Offer membership / loyalty program. Keep them engaged. Offer personalised recommendations.\n",
    "- New and Promising Customers: They have high recency score and low frequency, many of them only made a purchase once. Offer rewards or coupons. Bring them back to the platform and keep them engaged.\n",
    "- Need Attention: The customers with low or moderate scores on both recency and frequency.  Offer more personalised recommendations or discounts. Don’t lose them to the competition.\n",
    "- High Value Churned: Here we have high-value churned customers who haven’t purchased in a while. Win them back via new products or better reward systems.\n",
    "- Hibernating: Revive interest with reach out campaign. Or we can save money on marketing by suppressing these users and improve open and click rates."
   ]
  }
 ],
 "metadata": {
  "kernelspec": {
   "display_name": "Python 3",
   "language": "python",
   "name": "python3"
  },
  "language_info": {
   "codemirror_mode": {
    "name": "ipython",
    "version": 3
   },
   "file_extension": ".py",
   "mimetype": "text/x-python",
   "name": "python",
   "nbconvert_exporter": "python",
   "pygments_lexer": "ipython3",
   "version": "3.7.4"
  }
 },
 "nbformat": 4,
 "nbformat_minor": 2
}
